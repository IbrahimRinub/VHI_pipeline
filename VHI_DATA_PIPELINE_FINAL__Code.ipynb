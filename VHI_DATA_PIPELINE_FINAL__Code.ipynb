{
 "cells": [
  {
   "cell_type": "code",
   "execution_count": 462,
   "metadata": {},
   "outputs": [
    {
     "name": "stdout",
     "output_type": "stream",
     "text": [
      "The directory has been found successfully\n",
      "Total number of files in the folder:141\n",
      "Total number of jpg files:0\n",
      "Total number of pdf files:140\n",
      "The number of folders:1\n"
     ]
    }
   ],
   "source": [
    "# importing all the packages\n",
    "# --------------------------\n",
    "import numpy as np\n",
    "import os\n",
    "import os\n",
    "import csv\n",
    "import pyodbc\n",
    "import pandas as pd\n",
    "import shutil\n",
    "import os\n",
    "from datetime import datetime\n",
    "\n",
    "# getting information about all the files in the directory\n",
    "# -------------------------------------------------------- \n",
    "\n",
    "def info():\n",
    "    try:\n",
    "        os.chdir(r'\\\\Hasserver\\vhi')\n",
    "        \n",
    "        Sent = 'sent_IR'\n",
    "        \n",
    "    except OSError as err:\n",
    "        print(\"Error in the directory mentioned:\", err)\n",
    "    finally:\n",
    "        print('The directory has been found successfully')\n",
    "        counter = 0\n",
    "        jpg = 0\n",
    "        pdf = 0\n",
    "        othe = 0\n",
    "        for f in os.listdir():\n",
    "            file_name, file_exc = os.path.splitext(f)\n",
    "            counter += 1\n",
    "            if file_exc == '.jpg':\n",
    "                jpg +=1\n",
    "            elif file_exc == '.PDF':\n",
    "                pdf +=1\n",
    "            \n",
    "            else:\n",
    "                othe +=1\n",
    "                          \n",
    "    print('Total number of files in the folder:' + str(counter))\n",
    "    print('Total number of jpg files:'+ str(jpg))\n",
    "    print('Total number of pdf files:'+ str(pdf))\n",
    "    print('The number of folders:' + str(othe))\n",
    "    \n",
    "info()\n"
   ]
  },
  {
   "cell_type": "code",
   "execution_count": null,
   "metadata": {},
   "outputs": [],
   "source": [
    "# backing up the file in seperate directory\n",
    "#-----------------------------------------------\n",
    "\n",
    "z = 0\n",
    "now = datetime.now()\n",
    "dt_string = now.strftime(\"%d.%m.%Y_%H.%M\") \n",
    "# path to source directory\n",
    "src_dir = r'\\\\Hasserver\\vhi'\n",
    "# path to destination directory\n",
    "dest_dir = r'\\\\Hasserver\\vhi\\Archive'\n",
    "\n",
    "os.chdir(src_dir)\n",
    "\n",
    "for f in os.listdir():                \n",
    "    file_name, file_exc = os.path.splitext(f)\n",
    "    file_name_split = file_name.split('_')\n",
    "    size = len(file_name_split)\n",
    "    if size == 8:\n",
    "        try:\n",
    "            source = src_dir + '\\\\' + file_name + file_exc\n",
    "            file_name = file_name + '_'+ dt_string + file_exc\n",
    "            destination = dest_dir + '\\\\' + file_name\n",
    "            print(destination)\n",
    "        except:\n",
    "            pass\n",
    "        finally:\n",
    "            shutil.copy(source, destination)\n",
    "            print('copyed successfully')\n",
    "            # z+=1\n",
    "            # print(z)\n",
    "            \n",
    "            \n",
    "print('BACKUP SUCCESSFUL')"
   ]
  },
  {
   "cell_type": "code",
   "execution_count": 465,
   "metadata": {},
   "outputs": [
    {
     "name": "stdout",
     "output_type": "stream",
     "text": [
      "The connection has been established successfully\n"
     ]
    },
    {
     "name": "stderr",
     "output_type": "stream",
     "text": [
      "c:\\Users\\Ibrahim\\Anaconda3\\lib\\site-packages\\pandas\\io\\sql.py:761: UserWarning: pandas only support SQLAlchemy connectable(engine/connection) ordatabase string URI or sqlite3 DBAPI2 connectionother DBAPI2 objects are not tested, please consider using SQLAlchemy\n",
      "  warnings.warn(\n"
     ]
    }
   ],
   "source": [
    "# getting data nfrom IBM DB2 froma temporary view table\n",
    "# ------------------------------------------------------\n",
    "\n",
    "def conn():\n",
    "    global Hdpr_Df\n",
    "    try:\n",
    "        conn = pyodbc.connect('DSN=HASP720;UID=IBRAHIM;PWD=HOSFEB!21')\n",
    "        sql = \"Select CONSULTANT, INSURECON from HDCIRFP where INSURECODE='VHI'\" \n",
    "    except:\n",
    "        print('There is an error in the connection')\n",
    "        \n",
    "    finally:\n",
    "        Hdpr_Df = pd.read_sql(sql,conn)\n",
    "        Hdpr_Df.drop(Hdpr_Df[Hdpr_Df['CONSULTANT'] == 813].index, inplace = True)\n",
    "        Hdpr_Df.drop(Hdpr_Df[Hdpr_Df['CONSULTANT'] == 851].index, inplace = True)\n",
    "        Hdpr_Df.drop(Hdpr_Df[Hdpr_Df['CONSULTANT'] == 854].index, inplace = True)\n",
    "        Hdpr_Df.drop(Hdpr_Df[Hdpr_Df['CONSULTANT'] == 872].index, inplace = True)\n",
    "        Hdpr_Df.drop(Hdpr_Df[Hdpr_Df['CONSULTANT'] == 852].index, inplace = True)\n",
    "        Hdpr_Df['CONSULTANT'] = Hdpr_Df['CONSULTANT'].astype(int)\n",
    "        Hdpr_Df['INSURECON'] = Hdpr_Df['INSURECON'].astype(int)\n",
    "        Hdpr_Df.to_csv(r'\\\\Hasserver\\vhi\\Archive\\IBM_DB2_DF.csv', index=False)\n",
    "        print('The connection has been established successfully')\n",
    "        \n",
    "\n",
    "conn()\n",
    "        "
   ]
  },
  {
   "cell_type": "code",
   "execution_count": 466,
   "metadata": {},
   "outputs": [
    {
     "name": "stdout",
     "output_type": "stream",
     "text": [
      "please find the below list of files that exist in the directory\n",
      "The number of files in unusual names: 1\n",
      "All the file name has been uppended to the dataframe df\n"
     ]
    }
   ],
   "source": [
    "# getting the file names existing in the directory\n",
    "# ------------------------------------------------\n",
    "\n",
    "print('please find the below list of files that exist in the directory')\n",
    "counter = 0\n",
    "other = 0\n",
    "columns = ['IAS' , 'PRACT', 'LISTING' , 'SFTP','Date','Account Management','INSURECON','Policy Number']\n",
    "df = pd.DataFrame(columns=[columns])\n",
    "\n",
    "for f in os.listdir():\n",
    "    counter += 1\n",
    "    file_name, file_exc = os.path.splitext(f)\n",
    "    file_name_split = file_name.split('_')\n",
    "    \n",
    "    size = len(file_name_split)\n",
    "    if size == 8:\n",
    "        df.loc[len(df)] = file_name_split\n",
    "    else:\n",
    "        other +=1\n",
    "        print('The number of files in unusual names:' + ' '+ str(other))   \n",
    "    \n",
    "\n",
    "\n",
    "print('All the file name has been uppended to the dataframe df')    \n"
   ]
  },
  {
   "cell_type": "code",
   "execution_count": 467,
   "metadata": {},
   "outputs": [],
   "source": [
    "# performing transformation in all the directory\n",
    "# ----------------------------------------------\n",
    "\n",
    "def etl():\n",
    "    global df\n",
    "    global df_rough   \n",
    "    df = df.drop(['IAS', 'PRACT','SFTP','Policy Number','LISTING'], axis=1, level=0)\n",
    "    df.to_csv(r'\\\\Hasserver\\vhi\\Archive\\file_name.csv', index=False)\n",
    "    df_rough = pd.read_csv (r'\\\\Hasserver\\vhi\\Archive\\file_name.csv')\n",
    "    Hdpr_Df = pd.read_csv (r'\\\\Hasserver\\vhi\\Archive\\IBM_DB2_DF.csv')\n",
    "    df_rough['Date_1'] = df_rough['Date'].astype(str)\n",
    "    df_rough['Year'] = df_rough['Date_1'].str[0:4]\n",
    "    df_rough['Month'] = df_rough['Date_1'].str[4:6]\n",
    "    df_rough['Day'] = df_rough['Date_1'].str[6:8]\n",
    "    df_rough.drop('Date_1', axis=1, inplace=True)\n",
    "    df_rough = df_rough.assign(CONSULTANT = np.nan)\n",
    "etl()"
   ]
  },
  {
   "cell_type": "code",
   "execution_count": 470,
   "metadata": {},
   "outputs": [],
   "source": [
    "# filling the consultant number by cheking it with ethe IBM DB2 database [to make a joint in the table]\n",
    "# ---------------------------------------------------------------------------------------------------------\n",
    "\n",
    "count = 0\n",
    "a = 0\n",
    "b = 0\n",
    "Null = df_rough['CONSULTANT'].isna().sum()\n",
    "\n",
    "for index, row in df_rough.iterrows():\n",
    "    a+=1\n",
    "    value_1 = row[\"INSURECON\"]\n",
    "    Null = df_rough['CONSULTANT'].isna().sum()\n",
    "    # print(index)\n",
    "    if Null == 0:\n",
    "        break\n",
    "    else:\n",
    "        for index_1, row in Hdpr_Df.iterrows():\n",
    "            value_2 = row[\"INSURECON\"]\n",
    "            value_3 = row[\"CONSULTANT\"]\n",
    "            if value_2 == value_1:\n",
    "                df_rough.at[index,'CONSULTANT'] = value_3\n",
    "                \n",
    "                \n",
    "df_rough['CONSULTANT'] = df_rough['CONSULTANT'].replace(np.nan, 0)\n",
    "df_rough['CONSULTANT'] = df_rough['CONSULTANT'].astype(int)"
   ]
  },
  {
   "cell_type": "code",
   "execution_count": 471,
   "metadata": {},
   "outputs": [
    {
     "name": "stdout",
     "output_type": "stream",
     "text": [
      "0\n"
     ]
    }
   ],
   "source": [
    "# will show the number of null values in the final table\n",
    "# ------------------------------------------------------\n",
    "\n",
    "Null = df_rough['CONSULTANT'].isna().sum()\n",
    "\n",
    "print(Null) "
   ]
  },
  {
   "cell_type": "code",
   "execution_count": null,
   "metadata": {},
   "outputs": [],
   "source": [
    "# will rename all the files in the folder \n",
    "# ------------------------------------------\n",
    "\n",
    "os.chdir(r'\\\\Hasserver\\vhi')\n",
    "\n",
    "count = 0\n",
    "\n",
    "for index, row in df_rough.iterrows():\n",
    "    value_1 = row[\"INSURECON\"]\n",
    "    value_2 = row[\"Year\"]\n",
    "    value_3 = row[\"Month\"]\n",
    "    value_4 = row[\"CONSULTANT\"]\n",
    "    for f in os.listdir():\n",
    "        file_name, file_exc = os.path.splitext(f)\n",
    "        file_name_split = file_name.split('_')\n",
    "        size = len(file_name_split)\n",
    "        if size == 8:\n",
    "            item =file_name_split[6]\n",
    "            value_CN = int(item)\n",
    "            if value_CN == value_1:\n",
    "                count +=1\n",
    "                # print(count)\n",
    "                # print('{}.{}.{}({})_{}{}'.format(value_4,value_2,value_3,value_1,count,file_exc))\n",
    "                new_name = '{}.{}.{}({})_{}{}'.format(value_4,value_2,value_3,value_1,count,file_exc)\n",
    "                os.rename(f, new_name) \n",
    "        else:\n",
    "            pass\n",
    "    "
   ]
  }
 ],
 "metadata": {
  "kernelspec": {
   "display_name": "base",
   "language": "python",
   "name": "python3"
  },
  "language_info": {
   "codemirror_mode": {
    "name": "ipython",
    "version": 3
   },
   "file_extension": ".py",
   "mimetype": "text/x-python",
   "name": "python",
   "nbconvert_exporter": "python",
   "pygments_lexer": "ipython3",
   "version": "3.9.12"
  },
  "orig_nbformat": 4,
  "vscode": {
   "interpreter": {
    "hash": "3c1a8472f54893150690345a9045595952f9d4aa3aedf993bee9f67c36ebce91"
   }
  }
 },
 "nbformat": 4,
 "nbformat_minor": 2
}
